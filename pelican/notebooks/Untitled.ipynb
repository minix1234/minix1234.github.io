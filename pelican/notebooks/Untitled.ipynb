{
 "cells": [
  {
   "cell_type": "code",
   "execution_count": 1,
   "metadata": {},
   "outputs": [],
   "source": [
    "import pandas as pd\n",
    "import numpy as np\n",
    "import plotly.express as px"
   ]
  },
  {
   "cell_type": "code",
   "execution_count": 2,
   "metadata": {},
   "outputs": [],
   "source": [
    "url = 'https://raw.githubusercontent.com/CSSEGISandData/COVID-19/master/csse_covid_19_data/csse_covid_19_time_series/time_series_covid19_confirmed_global.csv'  #time_series_19-covid-Confirmed.csv'#\n",
    "dfcases = pd.read_csv(url,index_col=0,parse_dates=[0])\n",
    "dfcases = dfcases.drop(columns=['Lat','Long'])\n",
    "threshold = 10000  #used to remove countries in earlier infections from plots\n"
   ]
  },
  {
   "cell_type": "code",
   "execution_count": 3,
   "metadata": {},
   "outputs": [],
   "source": [
    "dfcases.at['Quebec','4/4/20'] = 6997 # fixes an issue with the numbers from WHO\n",
    "\n",
    "df = dfcases.groupby('Country/Region').sum()\n",
    "#df = df.T\n",
    "df = df.reset_index()\n",
    "#df = df.drop([0, 1])\n",
    "#df['index'] = df['index'].astype('datetime64')\n",
    "#df = df.set_index('index')\n"
   ]
  },
  {
   "cell_type": "code",
   "execution_count": null,
   "metadata": {},
   "outputs": [],
   "source": []
  },
  {
   "cell_type": "code",
   "execution_count": 4,
   "metadata": {},
   "outputs": [],
   "source": [
    "df = df.rename(columns={'Country/Region': 'date'})\n",
    "df = df.T\n",
    "df.columns = df.iloc[0]\n",
    "df = df.drop(df.index[0])\n",
    "df = df.reset_index()\n",
    "df = df.rename(columns={'index': 'dates'})\n",
    "df['dates'] = df['dates'].astype('datetime64')\n",
    "df = df.set_index('dates')\n",
    "df = df.apply(pd.to_numeric)"
   ]
  },
  {
   "cell_type": "code",
   "execution_count": 5,
   "metadata": {},
   "outputs": [],
   "source": [
    "dfmax = pd.DataFrame(df.max(),columns=['max'] )\n",
    "dfmax = dfmax.reset_index()\n",
    "dfmax = dfmax.rename(columns={'date': 'country'})\n",
    "\n",
    "dfmax = dfmax[dfmax['max'] > threshold]\n",
    "llist = dfmax['country'].values.tolist()\n",
    "#llist = llist + ['Japan']\n",
    "df1 = df[llist]\n",
    "\n",
    "dfgt = pd.DataFrame()\n",
    "dflt = pd.DataFrame()\n",
    "shift = {}"
   ]
  },
  {
   "cell_type": "code",
   "execution_count": 6,
   "metadata": {},
   "outputs": [
    {
     "name": "stderr",
     "output_type": "stream",
     "text": [
      "C:\\ProgramData\\Anaconda3\\lib\\site-packages\\ipykernel_launcher.py:6: SettingWithCopyWarning:\n",
      "\n",
      "\n",
      "A value is trying to be set on a copy of a slice from a DataFrame.\n",
      "Try using .loc[row_indexer,col_indexer] = value instead\n",
      "\n",
      "See the caveats in the documentation: https://pandas.pydata.org/pandas-docs/stable/user_guide/indexing.html#returning-a-view-versus-a-copy\n",
      "\n",
      "C:\\ProgramData\\Anaconda3\\lib\\site-packages\\ipykernel_launcher.py:16: SettingWithCopyWarning:\n",
      "\n",
      "\n",
      "A value is trying to be set on a copy of a slice from a DataFrame.\n",
      "Try using .loc[row_indexer,col_indexer] = value instead\n",
      "\n",
      "See the caveats in the documentation: https://pandas.pydata.org/pandas-docs/stable/user_guide/indexing.html#returning-a-view-versus-a-copy\n",
      "\n"
     ]
    }
   ],
   "source": [
    "for country in llist:\n",
    "    #Check country data for if the value is greater than 100\n",
    "    dfgt[country] = df1[country]>=100\n",
    "    # Determine the number of days to shift backwards to day zero.\n",
    "    sh = pd.to_datetime('2020-01-22') - dfgt[country].idxmax() #idxmax() -> find the first instance of True in the above Boolean list\n",
    "    df1[country] = df1[country].shift(sh.days)\n",
    "    \n",
    "    #if country in poplist:\n",
    "    #    try:\n",
    "    #        num = pop['Population'].loc[pop['Country'] == country].values\n",
    "    #        df[country] = df[country]/num[0]*100\n",
    "    #    except:\n",
    "    #        pass\n",
    "\n",
    "\n",
    "df1['China'] = df1['China'].shift(4)\n",
    "\n"
   ]
  },
  {
   "cell_type": "code",
   "execution_count": 7,
   "metadata": {},
   "outputs": [],
   "source": [
    "df1.index = pd.to_timedelta(df.index - pd.to_datetime('2020-01-22')).days\n",
    "\n",
    "dfmelt = df1.reset_index()\n",
    "dfmelt = dfmelt.melt(id_vars=['dates'])\n",
    "dfmelt = dfmelt.rename(columns={'date': 'country'})\n",
    "dfmelt = dfmelt.rename(columns={'value': 'cases'})\n",
    "#dfmelt = dfmelt.drop(columns=['dates'])\n",
    "dfmelt = dfmelt.set_index('dates')\n",
    "dfmelt['country'] = dfmelt['country'].astype('category')\n",
    "#dfmelt['cases'] = dfmelt['cases'].astype('int32') # fails due to nan\n",
    "gbt = dfmelt.groupby(dfmelt.index).sum()\n",
    "\n",
    "fig = px.line(dfmelt, x=dfmelt.index, y=\"cases\",color='country')#,log_y=True)\n",
    "fig.update_layout(\n",
    "    title=\"Aligned Covid-19 Active Cases Data\",\n",
    "    xaxis_title=\"Days Since 100th Active Case\",\n",
    "    yaxis_title=\"Number of Active Cases\",\n",
    "    font=dict(\n",
    "        family=\"Courier New, monospace\",\n",
    "        size=16,\n",
    "        color=\"#7f7f7f\"\n",
    "    ),\n",
    "    legend=dict(\n",
    "        font=dict(\n",
    "            family=\"sans-serif\",\n",
    "            size=12,\n",
    "            color=\"black\"\n",
    "        )\n",
    "    )\n",
    ")\n",
    "#fig.show()\n",
    "fig.write_html(\"infections_aligned.html\")\n"
   ]
  },
  {
   "cell_type": "code",
   "execution_count": 8,
   "metadata": {},
   "outputs": [],
   "source": [
    "figlog = px.line(dfmelt, x=dfmelt.index, y=\"cases\",color='country',log_y=True)\n",
    "figlog.update_layout(\n",
    "    title=\"Aligned Covid-19 Active Cases Data\",\n",
    "    xaxis_title=\"Days Since 100th Active Case\",\n",
    "    yaxis_title=\"Number of Active Cases [Log Scale]\",\n",
    "    font=dict(\n",
    "        family=\"Courier New, monospace\",\n",
    "        size=16,\n",
    "        color=\"#7f7f7f\"\n",
    "    ),\n",
    "    legend=dict(\n",
    "        font=dict(\n",
    "            family=\"sans-serif\",\n",
    "            size=12,\n",
    "            color=\"black\"\n",
    "        )\n",
    "    )\n",
    ")\n",
    "#figlog.show()\n",
    "figlog.write_html(\"infections_logscal.html\")\n"
   ]
  },
  {
   "cell_type": "code",
   "execution_count": 9,
   "metadata": {},
   "outputs": [],
   "source": [
    "\n",
    "df2 = df1.diff()\n",
    "dfmelt2 = df2.reset_index()\n",
    "dfmelt2 = dfmelt2.melt(id_vars=['dates'])\n",
    "dfmelt2 = dfmelt2.rename(columns={'date': 'country'})\n",
    "dfmelt2 = dfmelt2.rename(columns={'value': 'cases'})\n",
    "#dfmelt = dfmelt.drop(columns=['dates'])\n",
    "dfmelt2 = dfmelt2.set_index('dates')\n",
    "dfmelt2['country'] = dfmelt2['country'].astype('category')\n",
    "#dfmelt['cases'] = dfmelt['cases'].astype('int32') # fails due to nan\n",
    "#dfmelt2.tail()\n",
    "\n",
    "figdif = px.line(dfmelt2, x=dfmelt2.index, y=\"cases\", color='country')\n",
    "figdif.update_layout(\n",
    "    title=\"New Daily Cases\",\n",
    "    xaxis_title=\"Days Since 100th Active Case\",\n",
    "    yaxis_title=\"Daily Cases\",\n",
    "    font=dict(\n",
    "        family=\"Courier New, monospace\",\n",
    "        size=16,\n",
    "        color=\"#7f7f7f\"\n",
    "    ),\n",
    "    legend=dict(\n",
    "        font=dict(\n",
    "            family=\"sans-serif\",\n",
    "            size=12,\n",
    "            color=\"black\"\n",
    "        )\n",
    "    )\n",
    ")\n",
    "#figdif.show()\n",
    "figdif.write_html(\"differences.html\")"
   ]
  }
 ],
 "metadata": {
  "kernelspec": {
   "display_name": "Python 3",
   "language": "python",
   "name": "python3"
  },
  "language_info": {
   "codemirror_mode": {
    "name": "ipython",
    "version": 3
   },
   "file_extension": ".py",
   "mimetype": "text/x-python",
   "name": "python",
   "nbconvert_exporter": "python",
   "pygments_lexer": "ipython3",
   "version": "3.7.7"
  }
 },
 "nbformat": 4,
 "nbformat_minor": 4
}
